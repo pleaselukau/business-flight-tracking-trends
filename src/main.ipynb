{
  "cells": [
    {
      "cell_type": "code",
      "source": [
        "from google.colab import drive\n",
        "drive.mount(\"/content/drive\")"
      ],
      "metadata": {
        "id": "5coO40neXQlJ",
        "colab": {
          "base_uri": "https://localhost:8080/"
        },
        "outputId": "e449a60f-d436-424a-df94-6aae63913c16"
      },
      "execution_count": null,
      "outputs": [
        {
          "output_type": "stream",
          "name": "stdout",
          "text": [
            "Drive already mounted at /content/drive; to attempt to forcibly remount, call drive.mount(\"/content/drive\", force_remount=True).\n"
          ]
        }
      ]
    },
    {
      "cell_type": "code",
      "source": [
        "!ls /content/drive/MyDrive/business-flight-tracking-trends-main/data/Flight_data.csv\n"
      ],
      "metadata": {
        "colab": {
          "base_uri": "https://localhost:8080/"
        },
        "id": "Ado-rfO6aX5J",
        "outputId": "aa95e9a2-9418-401b-cca4-cc500842109e"
      },
      "execution_count": null,
      "outputs": [
        {
          "output_type": "stream",
          "name": "stdout",
          "text": [
            "/content/drive/MyDrive/business-flight-tracking-trends-main/data/Flight_data.csv\n"
          ]
        }
      ]
    },
    {
      "cell_type": "code",
      "source": [
        "!pwd"
      ],
      "metadata": {
        "colab": {
          "base_uri": "https://localhost:8080/"
        },
        "id": "xE6VFRhjaRah",
        "outputId": "aae096e2-87b3-42ae-8d3e-d3ccb0b9f097"
      },
      "execution_count": null,
      "outputs": [
        {
          "output_type": "stream",
          "name": "stdout",
          "text": [
            "/content\n"
          ]
        }
      ]
    },
    {
      "cell_type": "code",
      "execution_count": null,
      "metadata": {
        "id": "YWa78vNLBizC"
      },
      "outputs": [],
      "source": [
        " # Importing necessary libraries\n",
        "import os\n",
        "import pandas as pd\n",
        "import numpy as np\n",
        "import matplotlib.pyplot as plt\n",
        "import seaborn as sns\n",
        "from sklearn.model_selection import train_test_split\n",
        "from sklearn.ensemble import RandomForestRegressor\n",
        "from sklearn.metrics import accuracy_score\n",
        "from sklearn.preprocessing import LabelEncoder, StandardScaler\n",
        "from sklearn.metrics import mean_squared_error\n",
        "from math import sqrt"
      ]
    },
    {
      "cell_type": "code",
      "execution_count": null,
      "metadata": {
        "id": "Qkl-raEOBo5X"
      },
      "outputs": [],
      "source": [
        "# Load the dataset\n",
        "# Get the directory of the current script\n",
        "# Construct the path to the data file using relative paths (VS CODE)\n",
        "\n",
        "#data_file_path = os.path.join('..', 'data', 'Flight_data.csv')\n",
        "\n",
        "# Load the dataset\n",
        "flight_data = pd.read_csv(\"/content/drive/MyDrive/business-flight-tracking-trends-main/data/Flight_data.csv\")"
      ]
    },
    {
      "cell_type": "code",
      "execution_count": null,
      "metadata": {
        "id": "889ezfo1Bo-u"
      },
      "outputs": [],
      "source": [
        "# Feature analysis\n",
        "# Convert categorical variables to numerical using Label Encoding\n",
        "label_encoder = LabelEncoder()\n",
        "categorical_features = ['Departure City', 'Arrival City', 'Origin', 'Destination', 'Churned']\n",
        "for feature in categorical_features:\n",
        "    flight_data[feature] = label_encoder.fit_transform(flight_data[feature])\n"
      ]
    },
    {
      "cell_type": "code",
      "source": [
        "# Manual encoding for 'Booking Class' and 'Frequent Flyer Status'\n",
        "# Mapping 'Booking Class' to numbers: 1 for Economy, 2 for Business, 3 for First\n",
        "booking_class_mapping = {'Economy': 1, 'Business': 2, 'First': 3}\n",
        "flight_data['Booking Class'] = flight_data['Booking Class'].map(booking_class_mapping)\n",
        "\n",
        "# Mapping 'Frequent Flyer Status' to numbers: 1 for Gold, 2 for Platinum, 3 for Silver\n",
        "frequent_flyer_status_mapping = {'Gold': 1, 'Platinum': 2, 'Silver': 3}\n",
        "flight_data['Frequent Flyer Status'] = flight_data['Frequent Flyer Status'].map(frequent_flyer_status_mapping)"
      ],
      "metadata": {
        "id": "w2B9lgeWv5cC"
      },
      "execution_count": null,
      "outputs": []
    },
    {
      "cell_type": "code",
      "source": [
        "# Drop unused features\n",
        "#Customer ID, Name, Route are disregarded because they are irrelevant to our goal here\n",
        "flight_data.drop(['Customer ID', 'Name', 'Route', 'Delay Minutes'], axis=1, inplace=True)"
      ],
      "metadata": {
        "id": "CKEzfxXUuO5l"
      },
      "execution_count": null,
      "outputs": []
    },
    {
      "cell_type": "code",
      "source": [
        "# Convert Departure Date to datetime\n",
        "flight_data['Departure Date'] = pd.to_datetime(flight_data['Departure Date'])\n",
        "# Create new features for month and year from Departure Date\n",
        "flight_data['Departure Month'] = flight_data['Departure Date'].dt.month\n",
        "flight_data['Departure Year'] = flight_data['Departure Date'].dt.year #maybe increase importance?\n",
        "# Drop irrelevant columns\n",
        "flight_data.drop(['Departure Date'], axis=1, inplace=True)"
      ],
      "metadata": {
        "id": "-HgLltTLUM2v"
      },
      "execution_count": null,
      "outputs": []
    },
    {
      "cell_type": "code",
      "source": [
        "# Split dataset into features and target variable\n",
        "X = flight_data.drop(['Profitability'], axis=1) #these are the features, all columns except profitability\n",
        "y = flight_data['Profitability'] #this is our TARGET!!"
      ],
      "metadata": {
        "id": "uVgkOQcmWe0o"
      },
      "execution_count": null,
      "outputs": []
    },
    {
      "cell_type": "code",
      "source": [
        "# Split dataset into training set and test set\n",
        "X_train, X_test, y_train, y_test = train_test_split(X, y, test_size=0.3, random_state=42)"
      ],
      "metadata": {
        "id": "DJVfn_4QWe34"
      },
      "execution_count": null,
      "outputs": []
    },
    {
      "cell_type": "code",
      "source": [
        "# Scale the features\n",
        "scaler = StandardScaler()\n",
        "X_train_scaled = scaler.fit_transform(X_train)\n",
        "X_test_scaled = scaler.transform(X_test)"
      ],
      "metadata": {
        "id": "nPNHkjEVWe8o"
      },
      "execution_count": null,
      "outputs": []
    },
    {
      "cell_type": "code",
      "source": [
        "# Train the model\n",
        "rf_regressor = RandomForestRegressor(random_state=42) # fixed number 42 is fixing the randomness in processes like data splitting (in train-test splits),\n",
        "#model initialization, or any other operation that involves random number generation.\n",
        "#This makes  results consistent across different runs of the code\n",
        "rf_regressor.fit(X_train_scaled, y_train)"
      ],
      "metadata": {
        "id": "KLM5ukSAWoOK",
        "colab": {
          "base_uri": "https://localhost:8080/",
          "height": 75
        },
        "outputId": "cdab8e25-3128-4641-cab8-a22257b6b328"
      },
      "execution_count": null,
      "outputs": [
        {
          "output_type": "execute_result",
          "data": {
            "text/plain": [
              "RandomForestRegressor(random_state=42)"
            ],
            "text/html": [
              "<style>#sk-container-id-4 {color: black;background-color: white;}#sk-container-id-4 pre{padding: 0;}#sk-container-id-4 div.sk-toggleable {background-color: white;}#sk-container-id-4 label.sk-toggleable__label {cursor: pointer;display: block;width: 100%;margin-bottom: 0;padding: 0.3em;box-sizing: border-box;text-align: center;}#sk-container-id-4 label.sk-toggleable__label-arrow:before {content: \"▸\";float: left;margin-right: 0.25em;color: #696969;}#sk-container-id-4 label.sk-toggleable__label-arrow:hover:before {color: black;}#sk-container-id-4 div.sk-estimator:hover label.sk-toggleable__label-arrow:before {color: black;}#sk-container-id-4 div.sk-toggleable__content {max-height: 0;max-width: 0;overflow: hidden;text-align: left;background-color: #f0f8ff;}#sk-container-id-4 div.sk-toggleable__content pre {margin: 0.2em;color: black;border-radius: 0.25em;background-color: #f0f8ff;}#sk-container-id-4 input.sk-toggleable__control:checked~div.sk-toggleable__content {max-height: 200px;max-width: 100%;overflow: auto;}#sk-container-id-4 input.sk-toggleable__control:checked~label.sk-toggleable__label-arrow:before {content: \"▾\";}#sk-container-id-4 div.sk-estimator input.sk-toggleable__control:checked~label.sk-toggleable__label {background-color: #d4ebff;}#sk-container-id-4 div.sk-label input.sk-toggleable__control:checked~label.sk-toggleable__label {background-color: #d4ebff;}#sk-container-id-4 input.sk-hidden--visually {border: 0;clip: rect(1px 1px 1px 1px);clip: rect(1px, 1px, 1px, 1px);height: 1px;margin: -1px;overflow: hidden;padding: 0;position: absolute;width: 1px;}#sk-container-id-4 div.sk-estimator {font-family: monospace;background-color: #f0f8ff;border: 1px dotted black;border-radius: 0.25em;box-sizing: border-box;margin-bottom: 0.5em;}#sk-container-id-4 div.sk-estimator:hover {background-color: #d4ebff;}#sk-container-id-4 div.sk-parallel-item::after {content: \"\";width: 100%;border-bottom: 1px solid gray;flex-grow: 1;}#sk-container-id-4 div.sk-label:hover label.sk-toggleable__label {background-color: #d4ebff;}#sk-container-id-4 div.sk-serial::before {content: \"\";position: absolute;border-left: 1px solid gray;box-sizing: border-box;top: 0;bottom: 0;left: 50%;z-index: 0;}#sk-container-id-4 div.sk-serial {display: flex;flex-direction: column;align-items: center;background-color: white;padding-right: 0.2em;padding-left: 0.2em;position: relative;}#sk-container-id-4 div.sk-item {position: relative;z-index: 1;}#sk-container-id-4 div.sk-parallel {display: flex;align-items: stretch;justify-content: center;background-color: white;position: relative;}#sk-container-id-4 div.sk-item::before, #sk-container-id-4 div.sk-parallel-item::before {content: \"\";position: absolute;border-left: 1px solid gray;box-sizing: border-box;top: 0;bottom: 0;left: 50%;z-index: -1;}#sk-container-id-4 div.sk-parallel-item {display: flex;flex-direction: column;z-index: 1;position: relative;background-color: white;}#sk-container-id-4 div.sk-parallel-item:first-child::after {align-self: flex-end;width: 50%;}#sk-container-id-4 div.sk-parallel-item:last-child::after {align-self: flex-start;width: 50%;}#sk-container-id-4 div.sk-parallel-item:only-child::after {width: 0;}#sk-container-id-4 div.sk-dashed-wrapped {border: 1px dashed gray;margin: 0 0.4em 0.5em 0.4em;box-sizing: border-box;padding-bottom: 0.4em;background-color: white;}#sk-container-id-4 div.sk-label label {font-family: monospace;font-weight: bold;display: inline-block;line-height: 1.2em;}#sk-container-id-4 div.sk-label-container {text-align: center;}#sk-container-id-4 div.sk-container {/* jupyter's `normalize.less` sets `[hidden] { display: none; }` but bootstrap.min.css set `[hidden] { display: none !important; }` so we also need the `!important` here to be able to override the default hidden behavior on the sphinx rendered scikit-learn.org. See: https://github.com/scikit-learn/scikit-learn/issues/21755 */display: inline-block !important;position: relative;}#sk-container-id-4 div.sk-text-repr-fallback {display: none;}</style><div id=\"sk-container-id-4\" class=\"sk-top-container\"><div class=\"sk-text-repr-fallback\"><pre>RandomForestRegressor(random_state=42)</pre><b>In a Jupyter environment, please rerun this cell to show the HTML representation or trust the notebook. <br />On GitHub, the HTML representation is unable to render, please try loading this page with nbviewer.org.</b></div><div class=\"sk-container\" hidden><div class=\"sk-item\"><div class=\"sk-estimator sk-toggleable\"><input class=\"sk-toggleable__control sk-hidden--visually\" id=\"sk-estimator-id-4\" type=\"checkbox\" checked><label for=\"sk-estimator-id-4\" class=\"sk-toggleable__label sk-toggleable__label-arrow\">RandomForestRegressor</label><div class=\"sk-toggleable__content\"><pre>RandomForestRegressor(random_state=42)</pre></div></div></div></div></div>"
            ]
          },
          "metadata": {},
          "execution_count": 120
        }
      ]
    },
    {
      "cell_type": "code",
      "source": [
        "# Make predictions\n",
        "y_pred_train = rf_regressor.predict(X_train_scaled)\n",
        "y_pred_test = rf_regressor.predict(X_test_scaled)"
      ],
      "metadata": {
        "id": "-gABUVcaWoUT"
      },
      "execution_count": null,
      "outputs": []
    },
    {
      "cell_type": "code",
      "source": [
        "# Calculate RMSE\n",
        "rmse_train = sqrt(mean_squared_error(y_train, y_pred_train))\n",
        "rmse_test = sqrt(mean_squared_error(y_test, y_pred_test))\n"
      ],
      "metadata": {
        "id": "YbRZWvGYWfDR"
      },
      "execution_count": null,
      "outputs": []
    },
    {
      "cell_type": "code",
      "source": [
        "print(\"Train RMSE:\", rmse_train)\n",
        "print(\"Test RMSE:\", rmse_test)"
      ],
      "metadata": {
        "id": "2Jo_ZquEWzRT",
        "colab": {
          "base_uri": "https://localhost:8080/"
        },
        "outputId": "ac95a5d5-f291-45dc-941c-cb656f9e513b"
      },
      "execution_count": null,
      "outputs": [
        {
          "output_type": "stream",
          "name": "stdout",
          "text": [
            "Train RMSE: 0.11115922735326832\n",
            "Test RMSE: 0.28594596520929405\n"
          ]
        }
      ]
    },
    {
      "cell_type": "code",
      "source": [
        "# Feature importance\n",
        "feature_importance = pd.DataFrame({'Feature': X.columns, 'Importance': rf_regressor.feature_importances_})\n",
        "feature_importance = feature_importance.sort_values(by='Importance', ascending=False)\n",
        "print(\"\\nFeature Importance:\")\n",
        "print(feature_importance)"
      ],
      "metadata": {
        "id": "LLucSBjaW0DT",
        "colab": {
          "base_uri": "https://localhost:8080/"
        },
        "outputId": "66526eb1-f633-4620-bb6c-6fdc8961bcba"
      },
      "execution_count": null,
      "outputs": [
        {
          "output_type": "stream",
          "name": "stdout",
          "text": [
            "\n",
            "Feature Importance:\n",
            "                  Feature  Importance\n",
            "5            Ticket Price    0.162119\n",
            "0          Departure City    0.147916\n",
            "6        Competitor Price    0.122050\n",
            "1            Arrival City    0.114780\n",
            "2         Flight Duration    0.114549\n",
            "7                  Demand    0.097420\n",
            "10         Loyalty Points    0.084867\n",
            "3           Booking Class    0.044031\n",
            "4   Frequent Flyer Status    0.038914\n",
            "11                Churned    0.021044\n",
            "8                  Origin    0.020274\n",
            "9             Destination    0.016641\n",
            "12        Departure Month    0.015394\n",
            "13         Departure Year    0.000000\n"
          ]
        }
      ]
    },
    {
      "cell_type": "code",
      "source": [
        "# Feature Importance Plot\n",
        "plt.figure(figsize=(10, 6))\n",
        "plt.title(\"Feature Importance\")\n",
        "sns.barplot(data=feature_importance, x='Importance', y='Feature')\n",
        "plt.show()"
      ],
      "metadata": {
        "id": "fCmp-blnlYj6",
        "colab": {
          "base_uri": "https://localhost:8080/",
          "height": 564
        },
        "outputId": "ec24e86a-7094-418b-bf14-37c3642cc241"
      },
      "execution_count": null,
      "outputs": [
        {
          "output_type": "display_data",
          "data": {
            "text/plain": [
              "<Figure size 1000x600 with 1 Axes>"
            ],
            "image/png": "[encoded data removed]"
          },
          "metadata": {}
        }
      ]
    },
    {
      "cell_type": "code",
      "source": [
        "# Residuals Plot\n",
        "#Residuals are the differences between the observed values of the dependent variable and the values predicted by the model.\n",
        "residuals = y_test - y_pred_test\n",
        "plt.figure(figsize=(10, 6))\n",
        "plt.scatter(y_test, residuals)\n",
        "plt.title(\"Residuals vs Actual\")\n",
        "plt.xlabel(\"Actual Profitability\")\n",
        "plt.ylabel(\"Residuals\")\n",
        "plt.axhline(y=0, color='r', linestyle='-')\n",
        "plt.show()"
      ],
      "metadata": {
        "id": "f291KtZ5melk",
        "colab": {
          "base_uri": "https://localhost:8080/",
          "height": 564
        },
        "outputId": "dc6713b8-f071-4311-87a2-a23129f03d5a"
      },
      "execution_count": null,
      "outputs": [
        {
          "output_type": "display_data",
          "data": {
            "text/plain": [
              "<Figure size 1000x600 with 1 Axes>"
            ],
            "image/png": "[encoded data removed]"
          },
          "metadata": {}
        }
      ]
    },
    {
      "cell_type": "code",
      "source": [
        "#Ask the user to input data for a new flight\n",
        "print(\"Enter details for the new flight:\")\n",
        "departure_city = input(\"Departure City: \")\n",
        "arrival_city = input(\"Arrival City: \")\n",
        "flight_duration = float(input(\"Flight Duration (hours): \"))\n",
        "booking_class = int(input(\"Booking Class (1 for Economy, 2 for Business, 3 for First): \"))\n",
        "frequent_flyer_status = int(input(\"Frequent Flyer Status (1 for Gold, 2 for Platinum, 3 for Silver): \"))\n",
        "ticket_price = float(input(\"Ticket Price: \"))\n",
        "competitor_price = float(input(\"Competitor Price: \"))\n",
        "demand = int(input(\"Demand (1-20): \"))\n",
        "demand = demand * 0.1 if ticket_price <= competitor_price else demand * -0.1\n",
        "origin = input(\"Origin: \")\n",
        "destination = input(\"Destination: \")\n",
        "loyalty_points = int(input(\"Loyalty Points: \"))\n",
        "churned = int(input(\"Churned (0 for No, 1 for Yes): \"))\n",
        "departure_month = int(input(\"Departure Month: \"))\n",
        "departure_year = int(input(\"Departure Year: \"))"
      ],
      "metadata": {
        "id": "2Es0oDSVW0Fz",
        "colab": {
          "base_uri": "https://localhost:8080/"
        },
        "outputId": "fd60cab7-d0f9-4462-deab-dd042cca72e4"
      },
      "execution_count": null,
      "outputs": [
        {
          "name": "stdout",
          "output_type": "stream",
          "text": [
            "Enter details for the new flight:\n",
            "Departure City: New York\n",
            "Arrival City: Los Angeles\n",
            "Flight Duration (hours): 4\n",
            "Booking Class (1 for Economy, 2 for Business, 3 for First): 2\n",
            "Frequent Flyer Status (1 for Gold, 2 for Platinum, 3 for Silver): 2\n",
            "Ticket Price: 100\n",
            "Competitor Price: 150\n",
            "Demand (1-20): 10\n",
            "Origin: NYC\n",
            "Destination: LAX\n",
            "Loyalty Points: 5000\n",
            "Churned (0 for No, 1 for Yes): 1\n",
            "Departure Month: 4\n",
            "Departure Year: 2024\n"
          ]
        }
      ]
    },
    {
      "cell_type": "code",
      "source": [
        "# Create a DataFrame for the new flight data\n",
        "new_data = pd.DataFrame({\n",
        "    'Departure City': [departure_city],\n",
        "    'Arrival City': [arrival_city],\n",
        "    'Flight Duration': [flight_duration],\n",
        "    'Booking Class': [booking_class],\n",
        "    'Frequent Flyer Status': [frequent_flyer_status],\n",
        "    'Ticket Price': [ticket_price],\n",
        "    'Competitor Price': [competitor_price],\n",
        "    'Demand': [demand],\n",
        "    'Origin': [origin],\n",
        "    'Destination': [destination],\n",
        "    'Loyalty Points': [loyalty_points],\n",
        "    'Churned': [churned],\n",
        "    'Departure Month': [departure_month],\n",
        "    'Departure Year': [departure_year]\n",
        "})"
      ],
      "metadata": {
        "id": "2TpSWidWW0JV"
      },
      "execution_count": null,
      "outputs": []
    },
    {
      "cell_type": "code",
      "source": [
        "# Encode the new flight data using the same LabelEncoder (for those fields that need it)\n",
        "new_data['Departure City'] = label_encoder.transform(new_data['Departure City'])\n",
        "new_data['Arrival City'] = label_encoder.transform(new_data['Arrival City'])\n",
        "new_data['Origin'] = label_encoder.transform(new_data['Origin'])\n",
        "new_data['Destination'] = label_encoder.transform(new_data['Destination'])\n",
        "new_data['Churned'] = label_encoder.transform(new_data['Churned'])"
      ],
      "metadata": {
        "id": "RC2pjxZaW0Lr"
      },
      "execution_count": null,
      "outputs": []
    },
    {
      "cell_type": "code",
      "source": [
        "# Scale the features\n",
        "new_data_scaled = scaler.transform(new_data)"
      ],
      "metadata": {
        "id": "nOUhtn1rW0OK"
      },
      "execution_count": null,
      "outputs": []
    },
    {
      "cell_type": "code",
      "source": [
        "# Calculate the expected profitability based on the training data\n",
        "expected_profitability = y_train.mean()\n",
        "print(\"\\nExpected Profitability (based on training data):\", expected_profitability)"
      ],
      "metadata": {
        "id": "zGeV7BiCW0lb",
        "colab": {
          "base_uri": "https://localhost:8080/"
        },
        "outputId": "4f3ea746-8699-4642-840d-0ffb4b4eaff1"
      },
      "execution_count": null,
      "outputs": [
        {
          "output_type": "stream",
          "name": "stdout",
          "text": [
            "\n",
            "Expected Profitability (based on training data): 1.0603719943714285\n"
          ]
        }
      ]
    },
    {
      "cell_type": "code",
      "source": [
        "# Predict the profitability for the new flight data\n",
        "predicted_profitability = rf_regressor.predict(new_data_scaled)[0]\n",
        "print(\"Predicted Profitability for the new flight:\", predicted_profitability)"
      ],
      "metadata": {
        "id": "bM-QVVRIW0nr",
        "colab": {
          "base_uri": "https://localhost:8080/"
        },
        "outputId": "b6eaa535-4991-437c-de60-8a2d7c91f3c8"
      },
      "execution_count": null,
      "outputs": [
        {
          "output_type": "stream",
          "name": "stdout",
          "text": [
            "Predicted Profitability for the new flight: 0.9930085932699998\n"
          ]
        }
      ]
    },
    {
      "cell_type": "code",
      "source": [],
      "metadata": {
        "id": "lD8idYLeXOhj"
      },
      "execution_count": null,
      "outputs": []
    },
    {
      "cell_type": "code",
      "source": [],
      "metadata": {
        "id": "BZ3WYqxnW0pr"
      },
      "execution_count": null,
      "outputs": []
    }
  ],
  "metadata": {
    "colab": {
      "provenance": []
    },
    "kernelspec": {
      "display_name": "Python 3",
      "name": "python3"
    },
    "language_info": {
      "name": "python"
    }
  },
  "nbformat": 4,
  "nbformat_minor": 0
}